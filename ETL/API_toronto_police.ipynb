{
 "cells": [
  {
   "cell_type": "code",
   "execution_count": null,
   "metadata": {},
   "outputs": [],
   "source": [
    "#import Libraries\n",
    "import json\n",
    "import requests\n",
    "import pprint as pp\n",
    "import pandas as pd\n",
    "from sqlalchemy import create_engine,inspect\n",
    "from sqlalchemy.ext.automap import automap_base\n",
    "from sqlalchemy.orm import Session"
   ]
  },
  {
   "cell_type": "code",
   "execution_count": null,
   "metadata": {},
   "outputs": [],
   "source": [
    "#get data from API created by Manoel in C# web api and deployed at Azure\n",
    "url = 'http://manoelburgos.azurewebsites.net/api/Crimes'\n"
   ]
  },
  {
   "cell_type": "code",
   "execution_count": null,
   "metadata": {},
   "outputs": [],
   "source": [
    "# get content in json format\n",
    "json_api_value = requests.get(url).json()"
   ]
  },
  {
   "cell_type": "code",
   "execution_count": null,
   "metadata": {},
   "outputs": [],
   "source": [
    "#print result to know which key should be retrieved\n",
    "#pp.pprint(json_api_value)"
   ]
  },
  {
   "cell_type": "code",
   "execution_count": null,
   "metadata": {},
   "outputs": [],
   "source": [
    "# open connection with the local DB (postgres)\n",
    "rds_connection_string = \"postgres:filho21@localhost:5432/Crimes\"\n",
    "engine = create_engine(f'postgresql://{rds_connection_string}')"
   ]
  },
  {
   "cell_type": "code",
   "execution_count": null,
   "metadata": {},
   "outputs": [],
   "source": [
    "# identify the tables name\n",
    "tables = engine.table_names()"
   ]
  },
  {
   "cell_type": "code",
   "execution_count": null,
   "metadata": {},
   "outputs": [],
   "source": [
    "# identify the internal columns of the table\n",
    "inspector = inspect(engine)"
   ]
  },
  {
   "cell_type": "code",
   "execution_count": null,
   "metadata": {},
   "outputs": [],
   "source": [
    "#analyzing the \n",
    "for table in tables:\n",
    "    columns = inspector.get_columns(table)\n",
    "    for c in columns:\n",
    "        print(f'table: {table} | column= {c[\"name\"]} | type= {c[\"type\"]}')"
   ]
  },
  {
   "cell_type": "code",
   "execution_count": null,
   "metadata": {},
   "outputs": [],
   "source": [
    "# automap_base to map all the columns into object\n",
    "Base = automap_base()\n",
    "Base.prepare(engine, reflect=True)\n",
    "session = Session(engine)"
   ]
  },
  {
   "cell_type": "code",
   "execution_count": null,
   "metadata": {},
   "outputs": [],
   "source": [
    "#create a table's object\n",
    "City = Base.classes.city\n",
    "CrimeType = Base.classes.crimestype\n",
    "RegisterCrime = Base.classes.registercrime"
   ]
  },
  {
   "cell_type": "code",
   "execution_count": null,
   "metadata": {},
   "outputs": [],
   "source": []
  },
  {
   "cell_type": "code",
   "execution_count": null,
   "metadata": {},
   "outputs": [],
   "source": []
  },
  {
   "cell_type": "code",
   "execution_count": null,
   "metadata": {},
   "outputs": [],
   "source": [
    "# query to avoid data duplicaton\n",
    "query = session.query(City).filter(City.name==\"Toronto\").all()\n",
    "print(query)\n",
    "if query == []:\n",
    "    city_one = City(name='Toronto', country=\"Canada\", state=\"ON\")\n",
    "    session.add(city_one)\n",
    "    session.commit()"
   ]
  },
  {
   "cell_type": "code",
   "execution_count": null,
   "metadata": {},
   "outputs": [],
   "source": []
  },
  {
   "cell_type": "code",
   "execution_count": null,
   "metadata": {},
   "outputs": [],
   "source": [
    "# getting just a single value for each type \n",
    "dic_type ={}\n",
    "for value in json_api_value:\n",
    "    dic_type[value['Homicide_Type'].upper()]=value['Homicide_Type'].upper()\n",
    "    "
   ]
  },
  {
   "cell_type": "code",
   "execution_count": null,
   "metadata": {},
   "outputs": [],
   "source": [
    "#printing to check results\n",
    "print(dic_type)\n",
    "dict_type2 = list(dic_type)\n",
    "print(dict_type2)"
   ]
  },
  {
   "cell_type": "code",
   "execution_count": null,
   "metadata": {},
   "outputs": [],
   "source": [
    "#check if the data is already there, then this avoid dupication\n",
    "for data_value in dict_type2:\n",
    "    query = session.query(CrimeType).filter(CrimeType.type ==data_value).all()\n",
    "    if query == []:\n",
    "        type_one = CrimeType(type=data_value)\n",
    "        session.add(type_one)\n",
    "        session.commit()"
   ]
  },
  {
   "cell_type": "code",
   "execution_count": null,
   "metadata": {},
   "outputs": [],
   "source": [
    "#deleting content of the table, after that insert \n",
    "engine.execute(\"delete FROM registercrime\")\n",
    "session.commit()"
   ]
  },
  {
   "cell_type": "code",
   "execution_count": null,
   "metadata": {},
   "outputs": [],
   "source": [
    "#inserting all data from json. To avoid error of integraty constraint, the ids must be selected\n",
    "# from their respective main tables\n",
    "for value in json_api_value:\n",
    "#     find the id from the primery key to insert as foreign key\n",
    "    id_city = session.query(City.id).filter(City.name==value['City']).first()\n",
    "    id_crime = session.query(CrimeType.id).filter(CrimeType.type==value['Homicide_Type'].upper()).first() \n",
    "    complete_date = str(value['Occurrence_Date'])\n",
    "    month =  complete_date[5:7]\n",
    "    year =complete_date[0:4]\n",
    "    day = complete_date[8:10]\n",
    "    \n",
    "    session.add(RegisterCrime(id_crime = id_crime, id_city = id_city, day=day, month=month, year=year,latitude = value['Lat'], longitude = value['Long']))\n",
    "    session.commit()"
   ]
  },
  {
   "cell_type": "code",
   "execution_count": null,
   "metadata": {},
   "outputs": [],
   "source": []
  }
 ],
 "metadata": {
  "kernelspec": {
   "display_name": "Python 3",
   "language": "python",
   "name": "python3"
  },
  "language_info": {
   "codemirror_mode": {
    "name": "ipython",
    "version": 3
   },
   "file_extension": ".py",
   "mimetype": "text/x-python",
   "name": "python",
   "nbconvert_exporter": "python",
   "pygments_lexer": "ipython3",
   "version": "3.7.2"
  }
 },
 "nbformat": 4,
 "nbformat_minor": 2
}
