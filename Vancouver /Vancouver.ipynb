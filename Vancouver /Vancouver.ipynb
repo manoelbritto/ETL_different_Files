{
 "cells": [
  {
   "cell_type": "code",
   "execution_count": 2,
   "metadata": {},
   "outputs": [],
   "source": [
    "import pandas as pd\n",
    "from sqlalchemy import create_engine\n",
    "from sqlalchemy import create_engine,inspect\n",
    "from sqlalchemy.ext.automap import automap_base\n",
    "from sqlalchemy.orm import Session\n"
   ]
  },
  {
   "cell_type": "code",
   "execution_count": 3,
   "metadata": {},
   "outputs": [
    {
     "data": {
      "text/html": [
       "<div>\n",
       "<style scoped>\n",
       "    .dataframe tbody tr th:only-of-type {\n",
       "        vertical-align: middle;\n",
       "    }\n",
       "\n",
       "    .dataframe tbody tr th {\n",
       "        vertical-align: top;\n",
       "    }\n",
       "\n",
       "    .dataframe thead th {\n",
       "        text-align: right;\n",
       "    }\n",
       "</style>\n",
       "<table border=\"1\" class=\"dataframe\">\n",
       "  <thead>\n",
       "    <tr style=\"text-align: right;\">\n",
       "      <th></th>\n",
       "      <th>TYPE</th>\n",
       "      <th>YEAR</th>\n",
       "      <th>MONTH</th>\n",
       "      <th>DAY</th>\n",
       "      <th>HOUR</th>\n",
       "      <th>MINUTE</th>\n",
       "      <th>HUNDRED_BLOCK</th>\n",
       "      <th>NEIGHBOURHOOD</th>\n",
       "      <th>X</th>\n",
       "      <th>Y</th>\n",
       "    </tr>\n",
       "  </thead>\n",
       "  <tbody>\n",
       "    <tr>\n",
       "      <th>0</th>\n",
       "      <td>Theft from Vehicle</td>\n",
       "      <td>2003</td>\n",
       "      <td>4</td>\n",
       "      <td>29</td>\n",
       "      <td>14.0</td>\n",
       "      <td>0.0</td>\n",
       "      <td>23XX W 7TH AVE</td>\n",
       "      <td>Kitsilano</td>\n",
       "      <td>488378.25</td>\n",
       "      <td>5457008.26</td>\n",
       "    </tr>\n",
       "    <tr>\n",
       "      <th>1</th>\n",
       "      <td>Break and Enter Commercial</td>\n",
       "      <td>2003</td>\n",
       "      <td>11</td>\n",
       "      <td>1</td>\n",
       "      <td>5.0</td>\n",
       "      <td>0.0</td>\n",
       "      <td>23XX E HASTINGS ST</td>\n",
       "      <td>Grandview-Woodland</td>\n",
       "      <td>495820.60</td>\n",
       "      <td>5458719.06</td>\n",
       "    </tr>\n",
       "    <tr>\n",
       "      <th>2</th>\n",
       "      <td>Theft of Vehicle</td>\n",
       "      <td>2003</td>\n",
       "      <td>5</td>\n",
       "      <td>18</td>\n",
       "      <td>17.0</td>\n",
       "      <td>0.0</td>\n",
       "      <td>10XX E BROADWAY AVE</td>\n",
       "      <td>Mount Pleasant</td>\n",
       "      <td>493944.67</td>\n",
       "      <td>5456629.46</td>\n",
       "    </tr>\n",
       "    <tr>\n",
       "      <th>3</th>\n",
       "      <td>Break and Enter Residential/Other</td>\n",
       "      <td>2003</td>\n",
       "      <td>4</td>\n",
       "      <td>1</td>\n",
       "      <td>10.0</td>\n",
       "      <td>0.0</td>\n",
       "      <td>54XX WALES ST</td>\n",
       "      <td>Renfrew-Collingwood</td>\n",
       "      <td>496232.24</td>\n",
       "      <td>5453579.56</td>\n",
       "    </tr>\n",
       "    <tr>\n",
       "      <th>4</th>\n",
       "      <td>Theft of Vehicle</td>\n",
       "      <td>2003</td>\n",
       "      <td>12</td>\n",
       "      <td>11</td>\n",
       "      <td>9.0</td>\n",
       "      <td>0.0</td>\n",
       "      <td>26XX BLANCA ST</td>\n",
       "      <td>West Point Grey</td>\n",
       "      <td>484344.26</td>\n",
       "      <td>5456805.39</td>\n",
       "    </tr>\n",
       "  </tbody>\n",
       "</table>\n",
       "</div>"
      ],
      "text/plain": [
       "                                TYPE  YEAR  MONTH  DAY  HOUR  MINUTE  \\\n",
       "0                 Theft from Vehicle  2003      4   29  14.0     0.0   \n",
       "1         Break and Enter Commercial  2003     11    1   5.0     0.0   \n",
       "2                   Theft of Vehicle  2003      5   18  17.0     0.0   \n",
       "3  Break and Enter Residential/Other  2003      4    1  10.0     0.0   \n",
       "4                   Theft of Vehicle  2003     12   11   9.0     0.0   \n",
       "\n",
       "         HUNDRED_BLOCK        NEIGHBOURHOOD          X           Y  \n",
       "0       23XX W 7TH AVE            Kitsilano  488378.25  5457008.26  \n",
       "1   23XX E HASTINGS ST   Grandview-Woodland  495820.60  5458719.06  \n",
       "2  10XX E BROADWAY AVE       Mount Pleasant  493944.67  5456629.46  \n",
       "3        54XX WALES ST  Renfrew-Collingwood  496232.24  5453579.56  \n",
       "4       26XX BLANCA ST      West Point Grey  484344.26  5456805.39  "
      ]
     },
     "execution_count": 3,
     "metadata": {},
     "output_type": "execute_result"
    }
   ],
   "source": [
    "Vancouver_csv_file = \"../Resources/crime_csv_all_years.csv\"\n",
    "Vancouver_csv_df = pd.read_csv(Vancouver_csv_file)\n",
    "Vancouver_csv_df.head()"
   ]
  },
  {
   "cell_type": "code",
   "execution_count": 5,
   "metadata": {},
   "outputs": [
    {
     "data": {
      "text/html": [
       "<div>\n",
       "<style scoped>\n",
       "    .dataframe tbody tr th:only-of-type {\n",
       "        vertical-align: middle;\n",
       "    }\n",
       "\n",
       "    .dataframe tbody tr th {\n",
       "        vertical-align: top;\n",
       "    }\n",
       "\n",
       "    .dataframe thead th {\n",
       "        text-align: right;\n",
       "    }\n",
       "</style>\n",
       "<table border=\"1\" class=\"dataframe\">\n",
       "  <thead>\n",
       "    <tr style=\"text-align: right;\">\n",
       "      <th></th>\n",
       "      <th>TYPE</th>\n",
       "      <th>YEAR</th>\n",
       "      <th>MONTH</th>\n",
       "      <th>DAY</th>\n",
       "      <th>X</th>\n",
       "      <th>Y</th>\n",
       "    </tr>\n",
       "  </thead>\n",
       "  <tbody>\n",
       "    <tr>\n",
       "      <th>0</th>\n",
       "      <td>Theft from Vehicle</td>\n",
       "      <td>2003</td>\n",
       "      <td>4</td>\n",
       "      <td>29</td>\n",
       "      <td>488378.25</td>\n",
       "      <td>5457008.26</td>\n",
       "    </tr>\n",
       "    <tr>\n",
       "      <th>1</th>\n",
       "      <td>Break and Enter Commercial</td>\n",
       "      <td>2003</td>\n",
       "      <td>11</td>\n",
       "      <td>1</td>\n",
       "      <td>495820.60</td>\n",
       "      <td>5458719.06</td>\n",
       "    </tr>\n",
       "    <tr>\n",
       "      <th>2</th>\n",
       "      <td>Theft of Vehicle</td>\n",
       "      <td>2003</td>\n",
       "      <td>5</td>\n",
       "      <td>18</td>\n",
       "      <td>493944.67</td>\n",
       "      <td>5456629.46</td>\n",
       "    </tr>\n",
       "    <tr>\n",
       "      <th>3</th>\n",
       "      <td>Break and Enter Residential/Other</td>\n",
       "      <td>2003</td>\n",
       "      <td>4</td>\n",
       "      <td>1</td>\n",
       "      <td>496232.24</td>\n",
       "      <td>5453579.56</td>\n",
       "    </tr>\n",
       "    <tr>\n",
       "      <th>4</th>\n",
       "      <td>Theft of Vehicle</td>\n",
       "      <td>2003</td>\n",
       "      <td>12</td>\n",
       "      <td>11</td>\n",
       "      <td>484344.26</td>\n",
       "      <td>5456805.39</td>\n",
       "    </tr>\n",
       "  </tbody>\n",
       "</table>\n",
       "</div>"
      ],
      "text/plain": [
       "                                TYPE  YEAR  MONTH  DAY          X           Y\n",
       "0                 Theft from Vehicle  2003      4   29  488378.25  5457008.26\n",
       "1         Break and Enter Commercial  2003     11    1  495820.60  5458719.06\n",
       "2                   Theft of Vehicle  2003      5   18  493944.67  5456629.46\n",
       "3  Break and Enter Residential/Other  2003      4    1  496232.24  5453579.56\n",
       "4                   Theft of Vehicle  2003     12   11  484344.26  5456805.39"
      ]
     },
     "execution_count": 5,
     "metadata": {},
     "output_type": "execute_result"
    }
   ],
   "source": [
    "new_Vancouver_csv_df = Vancouver_csv_df[['TYPE', 'YEAR', 'MONTH', 'DAY', 'X', 'Y']].copy()\n",
    "new_Vancouver_csv_df.head()"
   ]
  },
  {
   "cell_type": "code",
   "execution_count": 6,
   "metadata": {},
   "outputs": [
    {
     "data": {
      "text/html": [
       "<div>\n",
       "<style scoped>\n",
       "    .dataframe tbody tr th:only-of-type {\n",
       "        vertical-align: middle;\n",
       "    }\n",
       "\n",
       "    .dataframe tbody tr th {\n",
       "        vertical-align: top;\n",
       "    }\n",
       "\n",
       "    .dataframe thead th {\n",
       "        text-align: right;\n",
       "    }\n",
       "</style>\n",
       "<table border=\"1\" class=\"dataframe\">\n",
       "  <thead>\n",
       "    <tr style=\"text-align: right;\">\n",
       "      <th></th>\n",
       "      <th>crimestype</th>\n",
       "      <th>year</th>\n",
       "      <th>month</th>\n",
       "      <th>day</th>\n",
       "      <th>latitude</th>\n",
       "      <th>longitude</th>\n",
       "    </tr>\n",
       "  </thead>\n",
       "  <tbody>\n",
       "    <tr>\n",
       "      <th>0</th>\n",
       "      <td>Theft from Vehicle</td>\n",
       "      <td>2003</td>\n",
       "      <td>4</td>\n",
       "      <td>29</td>\n",
       "      <td>488378.25</td>\n",
       "      <td>5457008.26</td>\n",
       "    </tr>\n",
       "    <tr>\n",
       "      <th>1</th>\n",
       "      <td>Break and Enter Commercial</td>\n",
       "      <td>2003</td>\n",
       "      <td>11</td>\n",
       "      <td>1</td>\n",
       "      <td>495820.60</td>\n",
       "      <td>5458719.06</td>\n",
       "    </tr>\n",
       "    <tr>\n",
       "      <th>2</th>\n",
       "      <td>Theft of Vehicle</td>\n",
       "      <td>2003</td>\n",
       "      <td>5</td>\n",
       "      <td>18</td>\n",
       "      <td>493944.67</td>\n",
       "      <td>5456629.46</td>\n",
       "    </tr>\n",
       "    <tr>\n",
       "      <th>3</th>\n",
       "      <td>Break and Enter Residential/Other</td>\n",
       "      <td>2003</td>\n",
       "      <td>4</td>\n",
       "      <td>1</td>\n",
       "      <td>496232.24</td>\n",
       "      <td>5453579.56</td>\n",
       "    </tr>\n",
       "    <tr>\n",
       "      <th>4</th>\n",
       "      <td>Theft of Vehicle</td>\n",
       "      <td>2003</td>\n",
       "      <td>12</td>\n",
       "      <td>11</td>\n",
       "      <td>484344.26</td>\n",
       "      <td>5456805.39</td>\n",
       "    </tr>\n",
       "  </tbody>\n",
       "</table>\n",
       "</div>"
      ],
      "text/plain": [
       "                          crimestype  year  month  day   latitude   longitude\n",
       "0                 Theft from Vehicle  2003      4   29  488378.25  5457008.26\n",
       "1         Break and Enter Commercial  2003     11    1  495820.60  5458719.06\n",
       "2                   Theft of Vehicle  2003      5   18  493944.67  5456629.46\n",
       "3  Break and Enter Residential/Other  2003      4    1  496232.24  5453579.56\n",
       "4                   Theft of Vehicle  2003     12   11  484344.26  5456805.39"
      ]
     },
     "execution_count": 6,
     "metadata": {},
     "output_type": "execute_result"
    }
   ],
   "source": [
    "renamed_Vancouver_df = new_Vancouver_csv_df.rename(columns={\"TYPE\":\"crimestype\" , \"YEAR\":\"year\", \"MONTH\":\"month\", \"DAY\": \"day\", \"X\": \"latitude\",  \"Y\":\"longitude\"})\n",
    "renamed_Vancouver_df.head()"
   ]
  },
  {
   "cell_type": "code",
   "execution_count": 7,
   "metadata": {},
   "outputs": [
    {
     "data": {
      "text/html": [
       "<div>\n",
       "<style scoped>\n",
       "    .dataframe tbody tr th:only-of-type {\n",
       "        vertical-align: middle;\n",
       "    }\n",
       "\n",
       "    .dataframe tbody tr th {\n",
       "        vertical-align: top;\n",
       "    }\n",
       "\n",
       "    .dataframe thead th {\n",
       "        text-align: right;\n",
       "    }\n",
       "</style>\n",
       "<table border=\"1\" class=\"dataframe\">\n",
       "  <thead>\n",
       "    <tr style=\"text-align: right;\">\n",
       "      <th></th>\n",
       "      <th>crimestype</th>\n",
       "      <th>year</th>\n",
       "      <th>month</th>\n",
       "      <th>day</th>\n",
       "      <th>latitude</th>\n",
       "      <th>longitude</th>\n",
       "    </tr>\n",
       "  </thead>\n",
       "  <tbody>\n",
       "    <tr>\n",
       "      <th>0</th>\n",
       "      <td>Theft from Vehicle</td>\n",
       "      <td>2003</td>\n",
       "      <td>4</td>\n",
       "      <td>29</td>\n",
       "      <td>488378.25</td>\n",
       "      <td>5457008.26</td>\n",
       "    </tr>\n",
       "    <tr>\n",
       "      <th>1</th>\n",
       "      <td>Break and Enter Commercial</td>\n",
       "      <td>2003</td>\n",
       "      <td>11</td>\n",
       "      <td>1</td>\n",
       "      <td>495820.60</td>\n",
       "      <td>5458719.06</td>\n",
       "    </tr>\n",
       "    <tr>\n",
       "      <th>3</th>\n",
       "      <td>Break and Enter Residential/Other</td>\n",
       "      <td>2003</td>\n",
       "      <td>4</td>\n",
       "      <td>1</td>\n",
       "      <td>496232.24</td>\n",
       "      <td>5453579.56</td>\n",
       "    </tr>\n",
       "    <tr>\n",
       "      <th>5</th>\n",
       "      <td>Break and Enter Residential/Other</td>\n",
       "      <td>2003</td>\n",
       "      <td>12</td>\n",
       "      <td>5</td>\n",
       "      <td>489995.20</td>\n",
       "      <td>5459563.59</td>\n",
       "    </tr>\n",
       "    <tr>\n",
       "      <th>6</th>\n",
       "      <td>Offence Against a Person</td>\n",
       "      <td>2003</td>\n",
       "      <td>4</td>\n",
       "      <td>4</td>\n",
       "      <td>0.00</td>\n",
       "      <td>0.00</td>\n",
       "    </tr>\n",
       "  </tbody>\n",
       "</table>\n",
       "</div>"
      ],
      "text/plain": [
       "                          crimestype  year  month  day   latitude   longitude\n",
       "0                 Theft from Vehicle  2003      4   29  488378.25  5457008.26\n",
       "1         Break and Enter Commercial  2003     11    1  495820.60  5458719.06\n",
       "3  Break and Enter Residential/Other  2003      4    1  496232.24  5453579.56\n",
       "5  Break and Enter Residential/Other  2003     12    5  489995.20  5459563.59\n",
       "6           Offence Against a Person  2003      4    4       0.00        0.00"
      ]
     },
     "execution_count": 7,
     "metadata": {},
     "output_type": "execute_result"
    }
   ],
   "source": [
    "renamed_Vancouver_df = renamed_Vancouver_df[renamed_Vancouver_df['crimestype'].isin ([\"Theft from Vehicle\",\"Break and Enter Commercial\", \"Break and Enter Residential/Other\", \"Offence Against a Person\"])]\n",
    "                                           #([\"Theft from Vehicle\", \"Break and Enter Commercial\", \"Break and Enter Residential/Other\", \"Offence Against a Person\"])\n",
    "renamed_Vancouver_df.head()"
   ]
  },
  {
   "cell_type": "code",
   "execution_count": 8,
   "metadata": {},
   "outputs": [
    {
     "data": {
      "text/html": [
       "<div>\n",
       "<style scoped>\n",
       "    .dataframe tbody tr th:only-of-type {\n",
       "        vertical-align: middle;\n",
       "    }\n",
       "\n",
       "    .dataframe tbody tr th {\n",
       "        vertical-align: top;\n",
       "    }\n",
       "\n",
       "    .dataframe thead th {\n",
       "        text-align: right;\n",
       "    }\n",
       "</style>\n",
       "<table border=\"1\" class=\"dataframe\">\n",
       "  <thead>\n",
       "    <tr style=\"text-align: right;\">\n",
       "      <th></th>\n",
       "      <th>type</th>\n",
       "    </tr>\n",
       "  </thead>\n",
       "  <tbody>\n",
       "    <tr>\n",
       "      <th>0</th>\n",
       "      <td>Theft from Vehicle</td>\n",
       "    </tr>\n",
       "    <tr>\n",
       "      <th>1</th>\n",
       "      <td>Break and Enter Commercial</td>\n",
       "    </tr>\n",
       "    <tr>\n",
       "      <th>2</th>\n",
       "      <td>Break and Enter Residential/Other</td>\n",
       "    </tr>\n",
       "    <tr>\n",
       "      <th>3</th>\n",
       "      <td>Offence Against a Person</td>\n",
       "    </tr>\n",
       "  </tbody>\n",
       "</table>\n",
       "</div>"
      ],
      "text/plain": [
       "                                type\n",
       "0                 Theft from Vehicle\n",
       "1         Break and Enter Commercial\n",
       "2  Break and Enter Residential/Other\n",
       "3           Offence Against a Person"
      ]
     },
     "execution_count": 8,
     "metadata": {},
     "output_type": "execute_result"
    }
   ],
   "source": [
    "listt= [\"Theft from Vehicle\",\"Break and Enter Commercial\", \"Break and Enter Residential/Other\", \"Offence Against a Person\"]\n",
    "df_crime_type = pd.DataFrame({\"type\": listt})\n",
    "df_crime_type"
   ]
  },
  {
   "cell_type": "code",
   "execution_count": 9,
   "metadata": {},
   "outputs": [],
   "source": [
    "rds_connection_string = \"postgres:Rav6islexus!!!@localhost:5432/Crime\"\n",
    "engine = create_engine(f'postgresql://{rds_connection_string}')"
   ]
  },
  {
   "cell_type": "code",
   "execution_count": 10,
   "metadata": {},
   "outputs": [
    {
     "data": {
      "text/plain": [
       "['city',\n",
       " 'registercrime',\n",
       " 'crimestype',\n",
       " 'census',\n",
       " 'vancouver_crime',\n",
       " 'Vancouver_crime']"
      ]
     },
     "execution_count": 10,
     "metadata": {},
     "output_type": "execute_result"
    }
   ],
   "source": [
    "engine.table_names()"
   ]
  },
  {
   "cell_type": "code",
   "execution_count": 11,
   "metadata": {},
   "outputs": [],
   "source": [
    "# identify the tables name\n",
    "tables = engine.table_names()"
   ]
  },
  {
   "cell_type": "code",
   "execution_count": 12,
   "metadata": {},
   "outputs": [],
   "source": [
    "# identify the internal columns of the table\n",
    "inspector = inspect(engine)"
   ]
  },
  {
   "cell_type": "code",
   "execution_count": 13,
   "metadata": {},
   "outputs": [],
   "source": [
    "Base = automap_base()\n",
    "Base.prepare(engine, reflect=True)\n",
    "session = Session(engine)"
   ]
  },
  {
   "cell_type": "code",
   "execution_count": 14,
   "metadata": {},
   "outputs": [],
   "source": [
    "#Table object creation\n",
    "City = Base.classes.city\n",
    "CrimeType = Base.classes.crimestype\n",
    "RegisterCrime = Base.classes.registercrime"
   ]
  },
  {
   "cell_type": "code",
   "execution_count": 15,
   "metadata": {},
   "outputs": [
    {
     "name": "stdout",
     "output_type": "stream",
     "text": [
      "[<sqlalchemy.ext.automap.city object at 0x11f9a6940>]\n"
     ]
    }
   ],
   "source": [
    "query = session.query(City).filter(City.name==\"Vancouver\").all()\n",
    "print(query)\n",
    "if query == []:\n",
    "    city_one = City(name='Vancouver', country=\"Canada\", state=\"ON\")\n",
    "    session.add(city_one)\n",
    "    session.commit()"
   ]
  },
  {
   "cell_type": "code",
   "execution_count": 16,
   "metadata": {},
   "outputs": [],
   "source": [
    "#deleting content of the table, after that insert \n",
    "engine.execute(\"delete FROM registercrime\")\n",
    "session.commit()"
   ]
  },
  {
   "cell_type": "code",
   "execution_count": 17,
   "metadata": {},
   "outputs": [],
   "source": [
    "#new_customer_data_df.to_sql(name='customer_name', con=engine, if_exists='append', index=False)\n",
    "df_crime_type.to_sql(name='crimestype', con=engine, if_exists='append', index=False)\n",
    "session.commit()"
   ]
  },
  {
   "cell_type": "code",
   "execution_count": 25,
   "metadata": {},
   "outputs": [],
   "source": [
    "session.rollback()"
   ]
  },
  {
   "cell_type": "code",
   "execution_count": 27,
   "metadata": {},
   "outputs": [],
   "source": [
    "for index, row in renamed_Vancouver_df.iterrows():\n",
    "    id_crime = session.query(CrimeType.id).filter(CrimeType.type == row[\"crimestype\"]).first()\n",
    "    year = row[\"year\"]\n",
    "    month = row[\"month\"]\n",
    "    day = row[\"day\"]\n",
    "    latitude = row[\"latitude\"]\n",
    "    longitude = row[\"longitude\"]\n",
    "    id_city = session.query(City.id).filter(City.name=='Vancouver').first()\n",
    "    session.add(RegisterCrime(id_crime = id_crime, id_city= id_city, year=year, month=month, day=day, latitude=latitude, longitude=longitude))\n",
    "    session.commit()"
   ]
  },
  {
   "cell_type": "code",
   "execution_count": null,
   "metadata": {},
   "outputs": [],
   "source": []
  }
 ],
 "metadata": {
  "kernelspec": {
   "display_name": "Python 3",
   "language": "python",
   "name": "python3"
  },
  "language_info": {
   "codemirror_mode": {
    "name": "ipython",
    "version": 3
   },
   "file_extension": ".py",
   "mimetype": "text/x-python",
   "name": "python",
   "nbconvert_exporter": "python",
   "pygments_lexer": "ipython3",
   "version": "3.7.3"
  }
 },
 "nbformat": 4,
 "nbformat_minor": 4
}
