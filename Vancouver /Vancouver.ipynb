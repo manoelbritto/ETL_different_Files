{
 "cells": [
  {
   "cell_type": "code",
   "execution_count": 27,
   "metadata": {},
   "outputs": [],
   "source": [
    "import pandas as pd\n",
    "from sqlalchemy import create_engine"
   ]
  },
  {
   "cell_type": "code",
   "execution_count": 28,
   "metadata": {},
   "outputs": [
    {
     "data": {
      "text/html": [
       "<div>\n",
       "<style scoped>\n",
       "    .dataframe tbody tr th:only-of-type {\n",
       "        vertical-align: middle;\n",
       "    }\n",
       "\n",
       "    .dataframe tbody tr th {\n",
       "        vertical-align: top;\n",
       "    }\n",
       "\n",
       "    .dataframe thead th {\n",
       "        text-align: right;\n",
       "    }\n",
       "</style>\n",
       "<table border=\"1\" class=\"dataframe\">\n",
       "  <thead>\n",
       "    <tr style=\"text-align: right;\">\n",
       "      <th></th>\n",
       "      <th>TYPE</th>\n",
       "      <th>YEAR</th>\n",
       "      <th>MONTH</th>\n",
       "      <th>DAY</th>\n",
       "      <th>HOUR</th>\n",
       "      <th>MINUTE</th>\n",
       "      <th>HUNDRED_BLOCK</th>\n",
       "      <th>NEIGHBOURHOOD</th>\n",
       "      <th>X</th>\n",
       "      <th>Y</th>\n",
       "    </tr>\n",
       "  </thead>\n",
       "  <tbody>\n",
       "    <tr>\n",
       "      <th>0</th>\n",
       "      <td>Theft from Vehicle</td>\n",
       "      <td>2003</td>\n",
       "      <td>4</td>\n",
       "      <td>29</td>\n",
       "      <td>14.0</td>\n",
       "      <td>0.0</td>\n",
       "      <td>23XX W 7TH AVE</td>\n",
       "      <td>Kitsilano</td>\n",
       "      <td>488378.25</td>\n",
       "      <td>5457008.26</td>\n",
       "    </tr>\n",
       "    <tr>\n",
       "      <th>1</th>\n",
       "      <td>Break and Enter Commercial</td>\n",
       "      <td>2003</td>\n",
       "      <td>11</td>\n",
       "      <td>1</td>\n",
       "      <td>5.0</td>\n",
       "      <td>0.0</td>\n",
       "      <td>23XX E HASTINGS ST</td>\n",
       "      <td>Grandview-Woodland</td>\n",
       "      <td>495820.60</td>\n",
       "      <td>5458719.06</td>\n",
       "    </tr>\n",
       "    <tr>\n",
       "      <th>2</th>\n",
       "      <td>Theft of Vehicle</td>\n",
       "      <td>2003</td>\n",
       "      <td>5</td>\n",
       "      <td>18</td>\n",
       "      <td>17.0</td>\n",
       "      <td>0.0</td>\n",
       "      <td>10XX E BROADWAY AVE</td>\n",
       "      <td>Mount Pleasant</td>\n",
       "      <td>493944.67</td>\n",
       "      <td>5456629.46</td>\n",
       "    </tr>\n",
       "    <tr>\n",
       "      <th>3</th>\n",
       "      <td>Break and Enter Residential/Other</td>\n",
       "      <td>2003</td>\n",
       "      <td>4</td>\n",
       "      <td>1</td>\n",
       "      <td>10.0</td>\n",
       "      <td>0.0</td>\n",
       "      <td>54XX WALES ST</td>\n",
       "      <td>Renfrew-Collingwood</td>\n",
       "      <td>496232.24</td>\n",
       "      <td>5453579.56</td>\n",
       "    </tr>\n",
       "    <tr>\n",
       "      <th>4</th>\n",
       "      <td>Theft of Vehicle</td>\n",
       "      <td>2003</td>\n",
       "      <td>12</td>\n",
       "      <td>11</td>\n",
       "      <td>9.0</td>\n",
       "      <td>0.0</td>\n",
       "      <td>26XX BLANCA ST</td>\n",
       "      <td>West Point Grey</td>\n",
       "      <td>484344.26</td>\n",
       "      <td>5456805.39</td>\n",
       "    </tr>\n",
       "  </tbody>\n",
       "</table>\n",
       "</div>"
      ],
      "text/plain": [
       "                                TYPE  YEAR  MONTH  DAY  HOUR  MINUTE  \\\n",
       "0                 Theft from Vehicle  2003      4   29  14.0     0.0   \n",
       "1         Break and Enter Commercial  2003     11    1   5.0     0.0   \n",
       "2                   Theft of Vehicle  2003      5   18  17.0     0.0   \n",
       "3  Break and Enter Residential/Other  2003      4    1  10.0     0.0   \n",
       "4                   Theft of Vehicle  2003     12   11   9.0     0.0   \n",
       "\n",
       "         HUNDRED_BLOCK        NEIGHBOURHOOD          X           Y  \n",
       "0       23XX W 7TH AVE            Kitsilano  488378.25  5457008.26  \n",
       "1   23XX E HASTINGS ST   Grandview-Woodland  495820.60  5458719.06  \n",
       "2  10XX E BROADWAY AVE       Mount Pleasant  493944.67  5456629.46  \n",
       "3        54XX WALES ST  Renfrew-Collingwood  496232.24  5453579.56  \n",
       "4       26XX BLANCA ST      West Point Grey  484344.26  5456805.39  "
      ]
     },
     "execution_count": 28,
     "metadata": {},
     "output_type": "execute_result"
    }
   ],
   "source": [
    "Vancouver_csv_file = \"../Resources/crime_csv_all_years.csv\"\n",
    "Vancouver_csv_df = pd.read_csv(Vancouver_csv_file)\n",
    "Vancouver_csv_df.head()"
   ]
  },
  {
   "cell_type": "code",
   "execution_count": 29,
   "metadata": {},
   "outputs": [
    {
     "data": {
      "text/html": [
       "<div>\n",
       "<style scoped>\n",
       "    .dataframe tbody tr th:only-of-type {\n",
       "        vertical-align: middle;\n",
       "    }\n",
       "\n",
       "    .dataframe tbody tr th {\n",
       "        vertical-align: top;\n",
       "    }\n",
       "\n",
       "    .dataframe thead th {\n",
       "        text-align: right;\n",
       "    }\n",
       "</style>\n",
       "<table border=\"1\" class=\"dataframe\">\n",
       "  <thead>\n",
       "    <tr style=\"text-align: right;\">\n",
       "      <th></th>\n",
       "      <th>TYPE</th>\n",
       "      <th>YEAR</th>\n",
       "      <th>MONTH</th>\n",
       "      <th>X</th>\n",
       "      <th>Y</th>\n",
       "    </tr>\n",
       "  </thead>\n",
       "  <tbody>\n",
       "    <tr>\n",
       "      <th>0</th>\n",
       "      <td>Theft from Vehicle</td>\n",
       "      <td>2003</td>\n",
       "      <td>4</td>\n",
       "      <td>488378.25</td>\n",
       "      <td>5457008.26</td>\n",
       "    </tr>\n",
       "    <tr>\n",
       "      <th>1</th>\n",
       "      <td>Break and Enter Commercial</td>\n",
       "      <td>2003</td>\n",
       "      <td>11</td>\n",
       "      <td>495820.60</td>\n",
       "      <td>5458719.06</td>\n",
       "    </tr>\n",
       "    <tr>\n",
       "      <th>2</th>\n",
       "      <td>Theft of Vehicle</td>\n",
       "      <td>2003</td>\n",
       "      <td>5</td>\n",
       "      <td>493944.67</td>\n",
       "      <td>5456629.46</td>\n",
       "    </tr>\n",
       "    <tr>\n",
       "      <th>3</th>\n",
       "      <td>Break and Enter Residential/Other</td>\n",
       "      <td>2003</td>\n",
       "      <td>4</td>\n",
       "      <td>496232.24</td>\n",
       "      <td>5453579.56</td>\n",
       "    </tr>\n",
       "    <tr>\n",
       "      <th>4</th>\n",
       "      <td>Theft of Vehicle</td>\n",
       "      <td>2003</td>\n",
       "      <td>12</td>\n",
       "      <td>484344.26</td>\n",
       "      <td>5456805.39</td>\n",
       "    </tr>\n",
       "  </tbody>\n",
       "</table>\n",
       "</div>"
      ],
      "text/plain": [
       "                                TYPE  YEAR  MONTH          X           Y\n",
       "0                 Theft from Vehicle  2003      4  488378.25  5457008.26\n",
       "1         Break and Enter Commercial  2003     11  495820.60  5458719.06\n",
       "2                   Theft of Vehicle  2003      5  493944.67  5456629.46\n",
       "3  Break and Enter Residential/Other  2003      4  496232.24  5453579.56\n",
       "4                   Theft of Vehicle  2003     12  484344.26  5456805.39"
      ]
     },
     "execution_count": 29,
     "metadata": {},
     "output_type": "execute_result"
    }
   ],
   "source": [
    "new_Vancouver_csv_df = Vancouver_csv_df[['TYPE', 'YEAR', 'MONTH', 'X', 'Y']].copy()\n",
    "new_Vancouver_csv_df.head()"
   ]
  },
  {
   "cell_type": "code",
   "execution_count": 37,
   "metadata": {},
   "outputs": [],
   "source": [
    "rds_connection_string = \"postgres:Rav6islexus!!!@localhost:5432/Crime\"\n",
    "engine = create_engine(f'postgresql://{rds_connection_string}')"
   ]
  },
  {
   "cell_type": "code",
   "execution_count": 38,
   "metadata": {},
   "outputs": [
    {
     "data": {
      "text/plain": [
       "['city', 'registercrime', 'crimestype', 'census']"
      ]
     },
     "execution_count": 38,
     "metadata": {},
     "output_type": "execute_result"
    }
   ],
   "source": [
    "engine.table_names()"
   ]
  },
  {
   "cell_type": "code",
   "execution_count": 34,
   "metadata": {},
   "outputs": [],
   "source": [
    "new_Vancouver_csv_df.to_sql(name='Vancouver_csv_file', con=engine, if_exists='append', index=False)"
   ]
  },
  {
   "cell_type": "code",
   "execution_count": null,
   "metadata": {},
   "outputs": [],
   "source": [
    "pd.read_sql_query('select * from Vancouver_CRIME_CSV', con=engine).head()"
   ]
  },
  {
   "cell_type": "code",
   "execution_count": null,
   "metadata": {},
   "outputs": [],
   "source": []
  }
 ],
 "metadata": {
  "kernelspec": {
   "display_name": "Python 3",
   "language": "python",
   "name": "python3"
  },
  "language_info": {
   "codemirror_mode": {
    "name": "ipython",
    "version": 3
   },
   "file_extension": ".py",
   "mimetype": "text/x-python",
   "name": "python",
   "nbconvert_exporter": "python",
   "pygments_lexer": "ipython3",
   "version": "3.7.3"
  }
 },
 "nbformat": 4,
 "nbformat_minor": 4
}
